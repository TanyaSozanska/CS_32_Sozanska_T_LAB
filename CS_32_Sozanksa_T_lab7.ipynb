{
  "nbformat": 4,
  "nbformat_minor": 0,
  "metadata": {
    "colab": {
      "provenance": [],
      "include_colab_link": true
    },
    "kernelspec": {
      "name": "python3",
      "display_name": "Python 3"
    },
    "language_info": {
      "name": "python"
    }
  },
  "cells": [
    {
      "cell_type": "markdown",
      "metadata": {
        "id": "view-in-github",
        "colab_type": "text"
      },
      "source": [
        "<a href=\"https://colab.research.google.com/github/TanyaSozanska/CS_32_Sozanska_T_LAB/blob/main/CS_32_Sozanksa_T_lab7.ipynb\" target=\"_parent\"><img src=\"https://colab.research.google.com/assets/colab-badge.svg\" alt=\"Open In Colab\"/></a>"
      ]
    },
    {
      "cell_type": "code",
      "execution_count": null,
      "metadata": {
        "id": "7dM_ft_6RItE"
      },
      "outputs": [],
      "source": [
        "import h5py\n",
        "import os\n",
        "import numpy as np\n",
        "import matplotlib.pyplot as plt\n",
        "\n",
        "\n",
        "cwd=os.getcwd()\n",
        "path = os.path.join(cwd,'data')"
      ]
    },
    {
      "cell_type": "code",
      "source": [
        "def load_dataset():\n",
        "  file_name=os.path.join(path, 'train_signs.h5')\n",
        "  train_dataset = h5py.File(file_name, 'r')\n",
        "  X_train = np.array(train_dataset['train_set_x'[:]])\n",
        "  Y_train = np.array(train_dataset['train_set_y'[:]])\n",
        "\n",
        "  file_name=os.path.join(path, 'test_signs.h5')\n",
        "  test_dataset = h5py.File(file_name, 'r')\n",
        "  X_test = np.array(test_dataset['test_set_x'[:]])\n",
        "  Y_test = np.array(test_dataset['test_set_y'[:]])\n",
        "\n",
        "  classes = ['0','1','2','3','4','5']\n",
        "\n",
        "  Y_train = Y_train.reshape(-1,1)\n",
        "  Y_test = Y_test.reshape(-1,1)\n",
        "\n",
        "  return X_train,Y_train,X_test,Y_test,classes"
      ],
      "metadata": {
        "id": "1CZVEO7SR8o-"
      },
      "execution_count": null,
      "outputs": []
    },
    {
      "cell_type": "code",
      "source": [
        "X_train,Y_train,X_test,Y_test,classes = load_dataset()\n",
        "\n",
        "index = 6\n",
        "plt.figure()\n",
        "plt.imshow(X_train[index])\n",
        "print('y= ' + str(Y_train[index,:]) + ', its a picture with '\n",
        "      + classes[np.squeeze(Y_train[index,:])]+ ' finger.')"
      ],
      "metadata": {
        "id": "NorKJTezTekv",
        "colab": {
          "base_uri": "https://localhost:8080/",
          "height": 449
        },
        "outputId": "48cf5eca-9092-4b2b-872f-341bf39937e0"
      },
      "execution_count": 13,
      "outputs": [
        {
          "output_type": "stream",
          "name": "stdout",
          "text": [
            "y= [2], its a picture with 2 finger.\n"
          ]
        },
        {
          "output_type": "display_data",
          "data": {
            "text/plain": [
              "<Figure size 640x480 with 1 Axes>"
            ],
            "image/png": "[encoded data removed]"
          },
          "metadata": {}
        }
      ]
    },
    {
      "cell_type": "code",
      "source": [
        "y = [1]\n",
        "m_train, num_px,_,_ = X_train.shape\n",
        "m_test = X_test.shape[0]\n",
        "X_train_flatten = X_train.reshape (m_train, -1)\n",
        "X_test_flatten = X_test.reshape (m_test, -1)\n",
        "\n",
        "X_train_scaled = X_train_flatten/255\n",
        "X_test_scaled = X_test_flatten/255"
      ],
      "metadata": {
        "id": "cWnAMP05VKSe"
      },
      "execution_count": null,
      "outputs": []
    },
    {
      "cell_type": "code",
      "source": [
        "from sklearn.neural_network import MLPClassifier\n",
        "\n",
        "Y_train = np.squeeze(Y_train)\n",
        "Y_test = np.squeeze(Y_test)\n",
        "\n",
        "print('Y_train.shape = ', Y_train.shape)\n",
        "print('Y_test.shape = ', Y_test.shape)\n",
        "print('X_test_scaled.shape = ', X_test_scaled.shape)\n"
      ],
      "metadata": {
        "id": "5VrgsSFEWEue"
      },
      "execution_count": null,
      "outputs": []
    },
    {
      "cell_type": "code",
      "source": [
        "\n",
        "clf = MLPClassifier(\n",
        "    verbose=True,\n",
        "    alpha=10,\n",
        ")\n",
        "clf.fit(X_train_scaled, Y_train)\n",
        "\n",
        "print(\"Train Accuracy: {:,.3%}\".format(train_accuracy))\n",
        "print(\"Test Accuracy: {:,.3%}\".format(test_accuracy))\n",
        "\n",
        "\n"
      ],
      "metadata": {
        "colab": {
          "base_uri": "https://localhost:8080/",
          "height": 1000
        },
        "id": "PLEyZOruW9o-",
        "outputId": "87a17d2f-40a2-4529-a444-060680ccf4ee"
      },
      "execution_count": null,
      "outputs": [
        {
          "output_type": "stream",
          "name": "stdout",
          "text": [
            "Iteration 1, loss = 14.24339673\n",
            "Iteration 2, loss = 10.24289452\n",
            "Iteration 3, loss = 7.28059444\n",
            "Iteration 4, loss = 6.01164330\n",
            "Iteration 5, loss = 5.34954907\n",
            "Iteration 6, loss = 4.77919271\n",
            "Iteration 7, loss = 4.44647805\n",
            "Iteration 8, loss = 4.30265771\n",
            "Iteration 9, loss = 4.26285177\n",
            "Iteration 10, loss = 3.96674541\n",
            "Iteration 11, loss = 3.72746193\n",
            "Iteration 12, loss = 3.80184225\n",
            "Iteration 13, loss = 3.37625043\n",
            "Iteration 14, loss = 3.28414460\n",
            "Iteration 15, loss = 3.09765417\n",
            "Iteration 16, loss = 3.85839881\n",
            "Iteration 17, loss = 3.32799308\n",
            "Iteration 18, loss = 3.09136765\n",
            "Iteration 19, loss = 2.86498331\n",
            "Iteration 20, loss = 2.78262899\n",
            "Iteration 21, loss = 3.00298191\n",
            "Iteration 22, loss = 2.81732698\n",
            "Iteration 23, loss = 2.53813486\n",
            "Iteration 24, loss = 2.31348873\n",
            "Iteration 25, loss = 2.21295430\n",
            "Iteration 26, loss = 2.18297660\n",
            "Iteration 27, loss = 2.16386000\n",
            "Iteration 28, loss = 2.06096103\n",
            "Iteration 29, loss = 2.06622560\n",
            "Iteration 30, loss = 1.98370005\n",
            "Iteration 31, loss = 1.93908015\n",
            "Iteration 32, loss = 2.02535996\n",
            "Iteration 33, loss = 1.90285075\n",
            "Iteration 34, loss = 1.79564171\n",
            "Iteration 35, loss = 1.73669480\n",
            "Iteration 36, loss = 1.74279865\n",
            "Iteration 37, loss = 1.74642763\n",
            "Iteration 38, loss = 1.70399550\n",
            "Iteration 39, loss = 1.67571129\n",
            "Iteration 40, loss = 1.67887977\n",
            "Iteration 41, loss = 1.62446811\n",
            "Iteration 42, loss = 1.62532072\n",
            "Iteration 43, loss = 1.60916895\n",
            "Iteration 44, loss = 1.57214980\n",
            "Iteration 45, loss = 1.65582544\n",
            "Iteration 46, loss = 1.74267520\n",
            "Iteration 47, loss = 1.64561404\n",
            "Iteration 48, loss = 1.58202559\n",
            "Iteration 49, loss = 1.49794525\n",
            "Iteration 50, loss = 1.44073474\n",
            "Iteration 51, loss = 1.43167499\n",
            "Iteration 52, loss = 1.54581862\n",
            "Iteration 53, loss = 1.41816995\n",
            "Iteration 54, loss = 1.40890886\n",
            "Iteration 55, loss = 1.39751293\n",
            "Iteration 56, loss = 1.42135774\n",
            "Iteration 57, loss = 1.41594749\n",
            "Iteration 58, loss = 1.36821421\n",
            "Iteration 59, loss = 1.32711002\n",
            "Iteration 60, loss = 1.34534402\n",
            "Iteration 61, loss = 1.35803853\n",
            "Iteration 62, loss = 1.36113798\n",
            "Iteration 63, loss = 1.33516355\n",
            "Iteration 64, loss = 1.34209042\n",
            "Iteration 65, loss = 1.30303628\n",
            "Iteration 66, loss = 1.26900365\n",
            "Iteration 67, loss = 1.28010553\n",
            "Iteration 68, loss = 1.26376230\n",
            "Iteration 69, loss = 1.25014648\n",
            "Iteration 70, loss = 1.23428881\n",
            "Iteration 71, loss = 1.21612018\n",
            "Iteration 72, loss = 1.25374147\n",
            "Iteration 73, loss = 1.24547858\n",
            "Iteration 74, loss = 1.22770815\n",
            "Iteration 75, loss = 1.19825792\n",
            "Iteration 76, loss = 1.23225299\n",
            "Iteration 77, loss = 1.20636936\n",
            "Iteration 78, loss = 1.22299807\n",
            "Iteration 79, loss = 1.17721105\n",
            "Iteration 80, loss = 1.18082705\n",
            "Iteration 81, loss = 1.21550587\n",
            "Iteration 82, loss = 1.20323197\n",
            "Iteration 83, loss = 1.18774453\n",
            "Iteration 84, loss = 1.12912954\n",
            "Iteration 85, loss = 1.15908429\n",
            "Iteration 86, loss = 1.18773556\n",
            "Iteration 87, loss = 1.30653956\n",
            "Iteration 88, loss = 1.18410283\n",
            "Iteration 89, loss = 1.15307634\n",
            "Iteration 90, loss = 1.37531963\n",
            "Iteration 91, loss = 1.34875164\n",
            "Iteration 92, loss = 1.29199799\n",
            "Iteration 93, loss = 1.20141050\n",
            "Iteration 94, loss = 1.20148292\n",
            "Iteration 95, loss = 1.22616864\n",
            "Training loss did not improve more than tol=0.000100 for 10 consecutive epochs. Stopping.\n"
          ]
        },
        {
          "output_type": "error",
          "ename": "NameError",
          "evalue": "ignored",
          "traceback": [
            "\u001b[0;31m---------------------------------------------------------------------------\u001b[0m",
            "\u001b[0;31mNameError\u001b[0m                                 Traceback (most recent call last)",
            "\u001b[0;32m<ipython-input-8-3e1328a3f5ad>\u001b[0m in \u001b[0;36m<cell line: 7>\u001b[0;34m()\u001b[0m\n\u001b[1;32m      5\u001b[0m \u001b[0mclf\u001b[0m\u001b[0;34m.\u001b[0m\u001b[0mfit\u001b[0m\u001b[0;34m(\u001b[0m\u001b[0mX_train_scaled\u001b[0m\u001b[0;34m,\u001b[0m \u001b[0mY_train\u001b[0m\u001b[0;34m)\u001b[0m\u001b[0;34m\u001b[0m\u001b[0;34m\u001b[0m\u001b[0m\n\u001b[1;32m      6\u001b[0m \u001b[0;34m\u001b[0m\u001b[0m\n\u001b[0;32m----> 7\u001b[0;31m \u001b[0mprint\u001b[0m\u001b[0;34m(\u001b[0m\u001b[0;34m\"Train Accuracy: {:,.3%}\"\u001b[0m\u001b[0;34m.\u001b[0m\u001b[0mformat\u001b[0m\u001b[0;34m(\u001b[0m\u001b[0mtrain_accuracy\u001b[0m\u001b[0;34m)\u001b[0m\u001b[0;34m)\u001b[0m\u001b[0;34m\u001b[0m\u001b[0;34m\u001b[0m\u001b[0m\n\u001b[0m\u001b[1;32m      8\u001b[0m \u001b[0mprint\u001b[0m\u001b[0;34m(\u001b[0m\u001b[0;34m\"Test Accuracy: {:,.3%}\"\u001b[0m\u001b[0;34m.\u001b[0m\u001b[0mformat\u001b[0m\u001b[0;34m(\u001b[0m\u001b[0mtest_accuracy\u001b[0m\u001b[0;34m)\u001b[0m\u001b[0;34m)\u001b[0m\u001b[0;34m\u001b[0m\u001b[0;34m\u001b[0m\u001b[0m\n\u001b[1;32m      9\u001b[0m \u001b[0;34m\u001b[0m\u001b[0m\n",
            "\u001b[0;31mNameError\u001b[0m: name 'train_accuracy' is not defined"
          ]
        }
      ]
    },
    {
      "cell_type": "code",
      "source": [
        "import plotly.express as px"
      ],
      "metadata": {
        "id": "foJPTx7QccuM"
      },
      "execution_count": null,
      "outputs": []
    },
    {
      "cell_type": "code",
      "source": [
        "fig = px.line(x=list(range(1, len(clf.loss_curve_) + 1)), y=clf.loss_curve_, labels={'x': 'Iteration', 'y': 'Loss'})\n",
        "fig.update_layout(\n",
        "    title='Training Loss over Iterations',\n",
        "    xaxis_title='Iteration',\n",
        "    yaxis_title='Loss',\n",
        "    hovermode='closest',  # Show data on hover\n",
        ")\n",
        "\n",
        "fig.show()"
      ],
      "metadata": {
        "colab": {
          "base_uri": "https://localhost:8080/",
          "height": 542
        },
        "id": "eplt3EyHb2Vm",
        "outputId": "adb9faa3-ca10-464a-ee4b-8fb93712142a"
      },
      "execution_count": null,
      "outputs": [
        {
          "output_type": "display_data",
          "data": {
            "text/html": [
              "<html>\n",
              "<head><meta charset=\"utf-8\" /></head>\n",
              "<body>\n",
              "    <div>            <script src=\"https://cdnjs.cloudflare.com/ajax/libs/mathjax/2.7.5/MathJax.js?config=TeX-AMS-MML_SVG\"></script><script type=\"text/javascript\">if (window.MathJax && window.MathJax.Hub && window.MathJax.Hub.Config) {window.MathJax.Hub.Config({SVG: {font: \"STIX-Web\"}});}</script>                <script type=\"text/javascript\">window.PlotlyConfig = {MathJaxConfig: 'local'};</script>\n",
              "        <script charset=\"utf-8\" src=\"https://cdn.plot.ly/plotly-2.24.1.min.js\"></script>                <div id=\"828db44d-33f4-46c7-bba5-f2140ce087f2\" class=\"plotly-graph-div\" style=\"height:525px; width:100%;\"></div>            <script type=\"text/javascript\">                                    window.PLOTLYENV=window.PLOTLYENV || {};                                    if (document.getElementById(\"828db44d-33f4-46c7-bba5-f2140ce087f2\")) {                    Plotly.newPlot(                        \"828db44d-33f4-46c7-bba5-f2140ce087f2\",                        [{\"hovertemplate\":\"Iteration=%{x}\\u003cbr\\u003eLoss=%{y}\\u003cextra\\u003e\\u003c\\u002fextra\\u003e\",\"legendgroup\":\"\",\"line\":{\"color\":\"#636efa\",\"dash\":\"solid\"},\"marker\":{\"symbol\":\"circle\"},\"mode\":\"lines\",\"name\":\"\",\"orientation\":\"v\",\"showlegend\":false,\"x\":[1,2,3,4,5,6,7,8,9,10,11,12,13,14,15,16,17,18,19,20,21,22,23,24,25,26,27,28,29,30,31,32,33,34,35,36,37,38,39,40,41,42,43,44,45,46,47,48,49,50,51,52,53,54,55,56,57,58,59,60,61,62,63,64,65,66,67,68,69,70,71,72,73,74,75,76,77,78,79,80,81,82,83,84,85,86,87,88,89,90,91,92,93,94,95],\"xaxis\":\"x\",\"y\":[14.243396729778839,10.242894516655902,7.280594444629584,6.011643297983084,5.349549072030388,4.779192707487957,4.446478052230516,4.3026577109823805,4.262851766664419,3.9667454061086844,3.7274619272459444,3.8018422526943376,3.376250429653811,3.284144600180995,3.097654174161081,3.8583988110708916,3.3279930840180234,3.0913676463800406,2.864983305624266,2.782628988519302,3.0029819102494693,2.8173269792883207,2.5381348623473556,2.3134887314984036,2.212954304100893,2.1829765982413063,2.163860000990354,2.0609610281551336,2.066225597525023,1.9837000482225107,1.9390801531066266,2.0253599556208397,1.9028507503902907,1.7956417111880165,1.7366948027926916,1.742798652258193,1.7464276293281202,1.7039954955821295,1.6757112872509767,1.6788797690242219,1.6244681093657296,1.6253207175661974,1.6091689515737633,1.5721497960282809,1.655825442711434,1.7426752043650722,1.6456140394490835,1.582025586619046,1.4979452482565863,1.4407347402843798,1.4316749947100036,1.5458186198606192,1.4181699492646462,1.4089088575184103,1.3975129316894945,1.4213577397469117,1.415947491814205,1.3682142094980978,1.3271100239026405,1.3453440159573735,1.3580385266798638,1.3611379813565483,1.3351635478716617,1.3420904181516802,1.303036277998607,1.269003648890416,1.2801055288660805,1.2637622981047467,1.2501464765599326,1.2342888073090454,1.2161201820359704,1.2537414655669346,1.2454785812486724,1.227708146994695,1.1982579189584384,1.2322529926023098,1.206369355315193,1.2229980687874609,1.1772110545877128,1.1808270518913944,1.2155058653923734,1.2032319708530268,1.187744525831302,1.129129540548123,1.1590842914323287,1.1877355640125165,1.306539557464155,1.1841028284263788,1.1530763414919525,1.3753196283882039,1.3487516441866392,1.2919979852486811,1.2014104969741008,1.2014829175241784,1.226168640912387],\"yaxis\":\"y\",\"type\":\"scatter\"}],                        {\"template\":{\"data\":{\"histogram2dcontour\":[{\"type\":\"histogram2dcontour\",\"colorbar\":{\"outlinewidth\":0,\"ticks\":\"\"},\"colorscale\":[[0.0,\"#0d0887\"],[0.1111111111111111,\"#46039f\"],[0.2222222222222222,\"#7201a8\"],[0.3333333333333333,\"#9c179e\"],[0.4444444444444444,\"#bd3786\"],[0.5555555555555556,\"#d8576b\"],[0.6666666666666666,\"#ed7953\"],[0.7777777777777778,\"#fb9f3a\"],[0.8888888888888888,\"#fdca26\"],[1.0,\"#f0f921\"]]}],\"choropleth\":[{\"type\":\"choropleth\",\"colorbar\":{\"outlinewidth\":0,\"ticks\":\"\"}}],\"histogram2d\":[{\"type\":\"histogram2d\",\"colorbar\":{\"outlinewidth\":0,\"ticks\":\"\"},\"colorscale\":[[0.0,\"#0d0887\"],[0.1111111111111111,\"#46039f\"],[0.2222222222222222,\"#7201a8\"],[0.3333333333333333,\"#9c179e\"],[0.4444444444444444,\"#bd3786\"],[0.5555555555555556,\"#d8576b\"],[0.6666666666666666,\"#ed7953\"],[0.7777777777777778,\"#fb9f3a\"],[0.8888888888888888,\"#fdca26\"],[1.0,\"#f0f921\"]]}],\"heatmap\":[{\"type\":\"heatmap\",\"colorbar\":{\"outlinewidth\":0,\"ticks\":\"\"},\"colorscale\":[[0.0,\"#0d0887\"],[0.1111111111111111,\"#46039f\"],[0.2222222222222222,\"#7201a8\"],[0.3333333333333333,\"#9c179e\"],[0.4444444444444444,\"#bd3786\"],[0.5555555555555556,\"#d8576b\"],[0.6666666666666666,\"#ed7953\"],[0.7777777777777778,\"#fb9f3a\"],[0.8888888888888888,\"#fdca26\"],[1.0,\"#f0f921\"]]}],\"heatmapgl\":[{\"type\":\"heatmapgl\",\"colorbar\":{\"outlinewidth\":0,\"ticks\":\"\"},\"colorscale\":[[0.0,\"#0d0887\"],[0.1111111111111111,\"#46039f\"],[0.2222222222222222,\"#7201a8\"],[0.3333333333333333,\"#9c179e\"],[0.4444444444444444,\"#bd3786\"],[0.5555555555555556,\"#d8576b\"],[0.6666666666666666,\"#ed7953\"],[0.7777777777777778,\"#fb9f3a\"],[0.8888888888888888,\"#fdca26\"],[1.0,\"#f0f921\"]]}],\"contourcarpet\":[{\"type\":\"contourcarpet\",\"colorbar\":{\"outlinewidth\":0,\"ticks\":\"\"}}],\"contour\":[{\"type\":\"contour\",\"colorbar\":{\"outlinewidth\":0,\"ticks\":\"\"},\"colorscale\":[[0.0,\"#0d0887\"],[0.1111111111111111,\"#46039f\"],[0.2222222222222222,\"#7201a8\"],[0.3333333333333333,\"#9c179e\"],[0.4444444444444444,\"#bd3786\"],[0.5555555555555556,\"#d8576b\"],[0.6666666666666666,\"#ed7953\"],[0.7777777777777778,\"#fb9f3a\"],[0.8888888888888888,\"#fdca26\"],[1.0,\"#f0f921\"]]}],\"surface\":[{\"type\":\"surface\",\"colorbar\":{\"outlinewidth\":0,\"ticks\":\"\"},\"colorscale\":[[0.0,\"#0d0887\"],[0.1111111111111111,\"#46039f\"],[0.2222222222222222,\"#7201a8\"],[0.3333333333333333,\"#9c179e\"],[0.4444444444444444,\"#bd3786\"],[0.5555555555555556,\"#d8576b\"],[0.6666666666666666,\"#ed7953\"],[0.7777777777777778,\"#fb9f3a\"],[0.8888888888888888,\"#fdca26\"],[1.0,\"#f0f921\"]]}],\"mesh3d\":[{\"type\":\"mesh3d\",\"colorbar\":{\"outlinewidth\":0,\"ticks\":\"\"}}],\"scatter\":[{\"fillpattern\":{\"fillmode\":\"overlay\",\"size\":10,\"solidity\":0.2},\"type\":\"scatter\"}],\"parcoords\":[{\"type\":\"parcoords\",\"line\":{\"colorbar\":{\"outlinewidth\":0,\"ticks\":\"\"}}}],\"scatterpolargl\":[{\"type\":\"scatterpolargl\",\"marker\":{\"colorbar\":{\"outlinewidth\":0,\"ticks\":\"\"}}}],\"bar\":[{\"error_x\":{\"color\":\"#2a3f5f\"},\"error_y\":{\"color\":\"#2a3f5f\"},\"marker\":{\"line\":{\"color\":\"#E5ECF6\",\"width\":0.5},\"pattern\":{\"fillmode\":\"overlay\",\"size\":10,\"solidity\":0.2}},\"type\":\"bar\"}],\"scattergeo\":[{\"type\":\"scattergeo\",\"marker\":{\"colorbar\":{\"outlinewidth\":0,\"ticks\":\"\"}}}],\"scatterpolar\":[{\"type\":\"scatterpolar\",\"marker\":{\"colorbar\":{\"outlinewidth\":0,\"ticks\":\"\"}}}],\"histogram\":[{\"marker\":{\"pattern\":{\"fillmode\":\"overlay\",\"size\":10,\"solidity\":0.2}},\"type\":\"histogram\"}],\"scattergl\":[{\"type\":\"scattergl\",\"marker\":{\"colorbar\":{\"outlinewidth\":0,\"ticks\":\"\"}}}],\"scatter3d\":[{\"type\":\"scatter3d\",\"line\":{\"colorbar\":{\"outlinewidth\":0,\"ticks\":\"\"}},\"marker\":{\"colorbar\":{\"outlinewidth\":0,\"ticks\":\"\"}}}],\"scattermapbox\":[{\"type\":\"scattermapbox\",\"marker\":{\"colorbar\":{\"outlinewidth\":0,\"ticks\":\"\"}}}],\"scatterternary\":[{\"type\":\"scatterternary\",\"marker\":{\"colorbar\":{\"outlinewidth\":0,\"ticks\":\"\"}}}],\"scattercarpet\":[{\"type\":\"scattercarpet\",\"marker\":{\"colorbar\":{\"outlinewidth\":0,\"ticks\":\"\"}}}],\"carpet\":[{\"aaxis\":{\"endlinecolor\":\"#2a3f5f\",\"gridcolor\":\"white\",\"linecolor\":\"white\",\"minorgridcolor\":\"white\",\"startlinecolor\":\"#2a3f5f\"},\"baxis\":{\"endlinecolor\":\"#2a3f5f\",\"gridcolor\":\"white\",\"linecolor\":\"white\",\"minorgridcolor\":\"white\",\"startlinecolor\":\"#2a3f5f\"},\"type\":\"carpet\"}],\"table\":[{\"cells\":{\"fill\":{\"color\":\"#EBF0F8\"},\"line\":{\"color\":\"white\"}},\"header\":{\"fill\":{\"color\":\"#C8D4E3\"},\"line\":{\"color\":\"white\"}},\"type\":\"table\"}],\"barpolar\":[{\"marker\":{\"line\":{\"color\":\"#E5ECF6\",\"width\":0.5},\"pattern\":{\"fillmode\":\"overlay\",\"size\":10,\"solidity\":0.2}},\"type\":\"barpolar\"}],\"pie\":[{\"automargin\":true,\"type\":\"pie\"}]},\"layout\":{\"autotypenumbers\":\"strict\",\"colorway\":[\"#636efa\",\"#EF553B\",\"#00cc96\",\"#ab63fa\",\"#FFA15A\",\"#19d3f3\",\"#FF6692\",\"#B6E880\",\"#FF97FF\",\"#FECB52\"],\"font\":{\"color\":\"#2a3f5f\"},\"hovermode\":\"closest\",\"hoverlabel\":{\"align\":\"left\"},\"paper_bgcolor\":\"white\",\"plot_bgcolor\":\"#E5ECF6\",\"polar\":{\"bgcolor\":\"#E5ECF6\",\"angularaxis\":{\"gridcolor\":\"white\",\"linecolor\":\"white\",\"ticks\":\"\"},\"radialaxis\":{\"gridcolor\":\"white\",\"linecolor\":\"white\",\"ticks\":\"\"}},\"ternary\":{\"bgcolor\":\"#E5ECF6\",\"aaxis\":{\"gridcolor\":\"white\",\"linecolor\":\"white\",\"ticks\":\"\"},\"baxis\":{\"gridcolor\":\"white\",\"linecolor\":\"white\",\"ticks\":\"\"},\"caxis\":{\"gridcolor\":\"white\",\"linecolor\":\"white\",\"ticks\":\"\"}},\"coloraxis\":{\"colorbar\":{\"outlinewidth\":0,\"ticks\":\"\"}},\"colorscale\":{\"sequential\":[[0.0,\"#0d0887\"],[0.1111111111111111,\"#46039f\"],[0.2222222222222222,\"#7201a8\"],[0.3333333333333333,\"#9c179e\"],[0.4444444444444444,\"#bd3786\"],[0.5555555555555556,\"#d8576b\"],[0.6666666666666666,\"#ed7953\"],[0.7777777777777778,\"#fb9f3a\"],[0.8888888888888888,\"#fdca26\"],[1.0,\"#f0f921\"]],\"sequentialminus\":[[0.0,\"#0d0887\"],[0.1111111111111111,\"#46039f\"],[0.2222222222222222,\"#7201a8\"],[0.3333333333333333,\"#9c179e\"],[0.4444444444444444,\"#bd3786\"],[0.5555555555555556,\"#d8576b\"],[0.6666666666666666,\"#ed7953\"],[0.7777777777777778,\"#fb9f3a\"],[0.8888888888888888,\"#fdca26\"],[1.0,\"#f0f921\"]],\"diverging\":[[0,\"#8e0152\"],[0.1,\"#c51b7d\"],[0.2,\"#de77ae\"],[0.3,\"#f1b6da\"],[0.4,\"#fde0ef\"],[0.5,\"#f7f7f7\"],[0.6,\"#e6f5d0\"],[0.7,\"#b8e186\"],[0.8,\"#7fbc41\"],[0.9,\"#4d9221\"],[1,\"#276419\"]]},\"xaxis\":{\"gridcolor\":\"white\",\"linecolor\":\"white\",\"ticks\":\"\",\"title\":{\"standoff\":15},\"zerolinecolor\":\"white\",\"automargin\":true,\"zerolinewidth\":2},\"yaxis\":{\"gridcolor\":\"white\",\"linecolor\":\"white\",\"ticks\":\"\",\"title\":{\"standoff\":15},\"zerolinecolor\":\"white\",\"automargin\":true,\"zerolinewidth\":2},\"scene\":{\"xaxis\":{\"backgroundcolor\":\"#E5ECF6\",\"gridcolor\":\"white\",\"linecolor\":\"white\",\"showbackground\":true,\"ticks\":\"\",\"zerolinecolor\":\"white\",\"gridwidth\":2},\"yaxis\":{\"backgroundcolor\":\"#E5ECF6\",\"gridcolor\":\"white\",\"linecolor\":\"white\",\"showbackground\":true,\"ticks\":\"\",\"zerolinecolor\":\"white\",\"gridwidth\":2},\"zaxis\":{\"backgroundcolor\":\"#E5ECF6\",\"gridcolor\":\"white\",\"linecolor\":\"white\",\"showbackground\":true,\"ticks\":\"\",\"zerolinecolor\":\"white\",\"gridwidth\":2}},\"shapedefaults\":{\"line\":{\"color\":\"#2a3f5f\"}},\"annotationdefaults\":{\"arrowcolor\":\"#2a3f5f\",\"arrowhead\":0,\"arrowwidth\":1},\"geo\":{\"bgcolor\":\"white\",\"landcolor\":\"#E5ECF6\",\"subunitcolor\":\"white\",\"showland\":true,\"showlakes\":true,\"lakecolor\":\"white\"},\"title\":{\"x\":0.05},\"mapbox\":{\"style\":\"light\"}}},\"xaxis\":{\"anchor\":\"y\",\"domain\":[0.0,1.0],\"title\":{\"text\":\"Iteration\"}},\"yaxis\":{\"anchor\":\"x\",\"domain\":[0.0,1.0],\"title\":{\"text\":\"Loss\"}},\"legend\":{\"tracegroupgap\":0},\"margin\":{\"t\":60},\"title\":{\"text\":\"Training Loss over Iterations\"},\"hovermode\":\"closest\"},                        {\"responsive\": true}                    ).then(function(){\n",
              "                            \n",
              "var gd = document.getElementById('828db44d-33f4-46c7-bba5-f2140ce087f2');\n",
              "var x = new MutationObserver(function (mutations, observer) {{\n",
              "        var display = window.getComputedStyle(gd).display;\n",
              "        if (!display || display === 'none') {{\n",
              "            console.log([gd, 'removed!']);\n",
              "            Plotly.purge(gd);\n",
              "            observer.disconnect();\n",
              "        }}\n",
              "}});\n",
              "\n",
              "// Listen for the removal of the full notebook cells\n",
              "var notebookContainer = gd.closest('#notebook-container');\n",
              "if (notebookContainer) {{\n",
              "    x.observe(notebookContainer, {childList: true});\n",
              "}}\n",
              "\n",
              "// Listen for the clearing of the current output cell\n",
              "var outputEl = gd.closest('.output');\n",
              "if (outputEl) {{\n",
              "    x.observe(outputEl, {childList: true});\n",
              "}}\n",
              "\n",
              "                        })                };                            </script>        </div>\n",
              "</body>\n",
              "</html>"
            ]
          },
          "metadata": {}
        }
      ]
    },
    {
      "cell_type": "code",
      "source": [
        "\n",
        "clf = MLPClassifier(\n",
        "    solver='lbfgs',\n",
        ")\n",
        "\n",
        "clf.fit(X_train_scaled, np.squeeze(Y_train))\n",
        "\n",
        "print(\"Train Accuracy: {:,.3%}\".format(train_accuracy))\n",
        "print(\"Test Accuracy: {:,.3%}\".format(test_accuracy))"
      ],
      "metadata": {
        "id": "73BY9VTBcp2b",
        "colab": {
          "base_uri": "https://localhost:8080/",
          "height": 366
        },
        "outputId": "7d35c1dc-e6d5-4a5b-e96e-c71ccd355811"
      },
      "execution_count": 11,
      "outputs": [
        {
          "output_type": "stream",
          "name": "stderr",
          "text": [
            "/usr/local/lib/python3.10/dist-packages/sklearn/neural_network/_multilayer_perceptron.py:541: ConvergenceWarning:\n",
            "\n",
            "lbfgs failed to converge (status=1):\n",
            "STOP: TOTAL NO. of ITERATIONS REACHED LIMIT.\n",
            "\n",
            "Increase the number of iterations (max_iter) or scale the data as shown in:\n",
            "    https://scikit-learn.org/stable/modules/preprocessing.html\n",
            "\n"
          ]
        },
        {
          "output_type": "error",
          "ename": "NameError",
          "evalue": "ignored",
          "traceback": [
            "\u001b[0;31m---------------------------------------------------------------------------\u001b[0m",
            "\u001b[0;31mNameError\u001b[0m                                 Traceback (most recent call last)",
            "\u001b[0;32m<ipython-input-11-fbdbfef95209>\u001b[0m in \u001b[0;36m<cell line: 7>\u001b[0;34m()\u001b[0m\n\u001b[1;32m      5\u001b[0m \u001b[0mclf\u001b[0m\u001b[0;34m.\u001b[0m\u001b[0mfit\u001b[0m\u001b[0;34m(\u001b[0m\u001b[0mX_train_scaled\u001b[0m\u001b[0;34m,\u001b[0m \u001b[0mnp\u001b[0m\u001b[0;34m.\u001b[0m\u001b[0msqueeze\u001b[0m\u001b[0;34m(\u001b[0m\u001b[0mY_train\u001b[0m\u001b[0;34m)\u001b[0m\u001b[0;34m)\u001b[0m\u001b[0;34m\u001b[0m\u001b[0;34m\u001b[0m\u001b[0m\n\u001b[1;32m      6\u001b[0m \u001b[0;34m\u001b[0m\u001b[0m\n\u001b[0;32m----> 7\u001b[0;31m \u001b[0mprint\u001b[0m\u001b[0;34m(\u001b[0m\u001b[0;34m\"Train Accuracy: {:,.3%}\"\u001b[0m\u001b[0;34m.\u001b[0m\u001b[0mformat\u001b[0m\u001b[0;34m(\u001b[0m\u001b[0mtrain_accuracy\u001b[0m\u001b[0;34m)\u001b[0m\u001b[0;34m)\u001b[0m\u001b[0;34m\u001b[0m\u001b[0;34m\u001b[0m\u001b[0m\n\u001b[0m\u001b[1;32m      8\u001b[0m \u001b[0mprint\u001b[0m\u001b[0;34m(\u001b[0m\u001b[0;34m\"Test Accuracy: {:,.3%}\"\u001b[0m\u001b[0;34m.\u001b[0m\u001b[0mformat\u001b[0m\u001b[0;34m(\u001b[0m\u001b[0mtest_accuracy\u001b[0m\u001b[0;34m)\u001b[0m\u001b[0;34m)\u001b[0m\u001b[0;34m\u001b[0m\u001b[0;34m\u001b[0m\u001b[0m\n",
            "\u001b[0;31mNameError\u001b[0m: name 'train_accuracy' is not defined"
          ]
        }
      ]
    },
    {
      "cell_type": "code",
      "source": [
        "import os\n",
        "import h5py\n",
        "import numpy as np\n",
        "import matplotlib.pyplot as plt\n",
        "from sklearn.neural_network import MLPClassifier\n",
        "\n",
        "def load_dataset(path):\n",
        "    file_name = os.path.join(path, 'train_signs.h5')\n",
        "    train_dataset = h5py.File(file_name, 'r')\n",
        "    X_train = np.array(train_dataset['train_set_x'][:])\n",
        "    Y_train = np.array(train_dataset['train_set_y'][:])\n",
        "\n",
        "    file_name = os.path.join(path, 'test_signs.h5')\n",
        "    test_dataset = h5py.File(file_name, 'r')\n",
        "    X_test = np.array(test_dataset['test_set_x'][:])\n",
        "    Y_test = np.array(test_dataset['test_set_y'][:])\n",
        "\n",
        "    classes = ['0', '1', '2', '3', '4', '5']\n",
        "\n",
        "    Y_train = Y_train.reshape(-1, 1)\n",
        "    Y_test = Y_test.reshape(-1, 1)\n",
        "\n",
        "    return X_train, Y_train, X_test, Y_test, classes\n",
        "\n",
        "path = os.path.join(os.getcwd(), 'data')\n",
        "X_train, Y_train, X_test, Y_test, classes = load_dataset(path)\n",
        "\n",
        "index = 16\n",
        "plt.figure()\n",
        "plt.imshow(X_train[index])\n",
        "print('y= ' + str(Y_train[index, :]) + ', its a picture with ' +\n",
        "      classes[np.squeeze(Y_train[index, :])]+ ' finger.')\n",
        "\n",
        "y = [1]\n",
        "m_train, num_px, _, _ = X_train.shape\n",
        "m_test = X_test.shape[0]\n",
        "X_train_flatten = X_train.reshape(m_train, -1)\n",
        "X_test_flatten = X_test.reshape(m_test, -1)\n",
        "\n",
        "X_train_scaled = X_train_flatten / 255\n",
        "X_test_scaled = X_test_flatten / 255\n",
        "\n",
        "clf = MLPClassifier(\n",
        "    verbose=True,\n",
        "    alpha=10,\n",
        ")\n",
        "clf.fit(X_train_scaled, np.squeeze(Y_train))\n",
        "\n",
        "train_accuracy = clf.score(X_train_scaled, np.squeeze(Y_train))\n",
        "test_accuracy = clf.score(X_test_scaled, np.squeeze(Y_test))\n",
        "\n",
        "print(\"Train Accuracy: {:,.3%}\".format(train_accuracy))\n",
        "print(\"Test Accuracy: {:,.3%}\".format(test_accuracy))\n",
        "\n",
        "# Try another MLPClassifier configuration\n",
        "clf = MLPClassifier(\n",
        "    solver='lbfgs',\n",
        ")\n",
        "\n",
        "clf.fit(X_train_scaled, np.squeeze(Y_train))\n",
        "train_accuracy = clf.score(X_train_scaled, np.squeeze(Y_train))\n",
        "test_accuracy = clf.score(X_test_scaled, np.squeeze(Y_test))\n",
        "\n",
        "print(\"Train Accuracy: {:,.3%}\".format(train_accuracy))\n",
        "print(\"Test Accuracy: {:,.3%}\".format(test_accuracy))\n"
      ],
      "metadata": {
        "id": "6vs4WMRQii4X",
        "colab": {
          "base_uri": "https://localhost:8080/",
          "height": 1000
        },
        "outputId": "4542b6bc-a672-40ab-f679-a91641fa17a0"
      },
      "execution_count": 14,
      "outputs": [
        {
          "output_type": "stream",
          "name": "stdout",
          "text": [
            "y= [2], its a picture with 2 finger.\n",
            "Iteration 1, loss = 17.75629191\n",
            "Iteration 2, loss = 7.79974046\n",
            "Iteration 3, loss = 6.16334832\n",
            "Iteration 4, loss = 5.44936123\n",
            "Iteration 5, loss = 5.19067002\n",
            "Iteration 6, loss = 4.88891660\n",
            "Iteration 7, loss = 4.62304345\n",
            "Iteration 8, loss = 4.41014084\n",
            "Iteration 9, loss = 4.15578074\n",
            "Iteration 10, loss = 3.97791294\n",
            "Iteration 11, loss = 3.79895086\n",
            "Iteration 12, loss = 3.62048408\n",
            "Iteration 13, loss = 3.43742072\n",
            "Iteration 14, loss = 3.30822184\n",
            "Iteration 15, loss = 3.15609418\n",
            "Iteration 16, loss = 3.03640889\n",
            "Iteration 17, loss = 2.93731579\n",
            "Iteration 18, loss = 2.79389369\n",
            "Iteration 19, loss = 2.70180205\n",
            "Iteration 20, loss = 2.64472056\n",
            "Iteration 21, loss = 2.58558104\n",
            "Iteration 22, loss = 2.48893811\n",
            "Iteration 23, loss = 2.42183277\n",
            "Iteration 24, loss = 2.33612809\n",
            "Iteration 25, loss = 2.31405001\n",
            "Iteration 26, loss = 2.22539133\n",
            "Iteration 27, loss = 2.20462237\n",
            "Iteration 28, loss = 2.15170425\n",
            "Iteration 29, loss = 2.10630034\n",
            "Iteration 30, loss = 2.05712363\n",
            "Iteration 31, loss = 2.00112613\n",
            "Iteration 32, loss = 1.96196951\n",
            "Iteration 33, loss = 1.91694180\n",
            "Iteration 34, loss = 1.89985090\n",
            "Iteration 35, loss = 1.84566974\n",
            "Iteration 36, loss = 1.81676234\n",
            "Iteration 37, loss = 1.77524994\n",
            "Iteration 38, loss = 1.75218461\n",
            "Iteration 39, loss = 1.75471474\n",
            "Iteration 40, loss = 1.73398822\n",
            "Iteration 41, loss = 1.72159778\n",
            "Iteration 42, loss = 1.70338407\n",
            "Iteration 43, loss = 1.67898381\n",
            "Iteration 44, loss = 1.62697997\n",
            "Iteration 45, loss = 1.64323865\n",
            "Iteration 46, loss = 1.63309367\n",
            "Iteration 47, loss = 1.61000094\n",
            "Iteration 48, loss = 1.55037291\n",
            "Iteration 49, loss = 1.53217599\n",
            "Iteration 50, loss = 1.53287913\n",
            "Iteration 51, loss = 1.52229500\n",
            "Iteration 52, loss = 1.52951992\n",
            "Iteration 53, loss = 1.53321598\n",
            "Iteration 54, loss = 1.49664740\n",
            "Iteration 55, loss = 1.46361052\n",
            "Iteration 56, loss = 1.51360259\n",
            "Iteration 57, loss = 1.43383716\n",
            "Iteration 58, loss = 1.43041966\n",
            "Iteration 59, loss = 1.43820322\n",
            "Iteration 60, loss = 1.44584843\n",
            "Iteration 61, loss = 1.39772423\n",
            "Iteration 62, loss = 1.40027220\n",
            "Iteration 63, loss = 1.42511495\n",
            "Iteration 64, loss = 1.43150658\n",
            "Iteration 65, loss = 1.39412590\n",
            "Iteration 66, loss = 1.36977027\n",
            "Iteration 67, loss = 1.34931332\n",
            "Iteration 68, loss = 1.40603479\n",
            "Iteration 69, loss = 1.35844025\n",
            "Iteration 70, loss = 1.37929590\n",
            "Iteration 71, loss = 1.34460015\n",
            "Iteration 72, loss = 1.33753716\n",
            "Iteration 73, loss = 1.31192840\n",
            "Iteration 74, loss = 1.29938321\n",
            "Iteration 75, loss = 1.33112139\n",
            "Iteration 76, loss = 1.31743634\n",
            "Iteration 77, loss = 1.34532764\n",
            "Iteration 78, loss = 1.37023766\n",
            "Iteration 79, loss = 1.32180208\n",
            "Iteration 80, loss = 1.31093928\n",
            "Iteration 81, loss = 1.30590281\n",
            "Iteration 82, loss = 1.31196172\n",
            "Iteration 83, loss = 1.28349625\n",
            "Iteration 84, loss = 1.29720379\n",
            "Iteration 85, loss = 1.28941428\n",
            "Iteration 86, loss = 1.29140220\n",
            "Iteration 87, loss = 1.26768035\n",
            "Iteration 88, loss = 1.24766530\n",
            "Iteration 89, loss = 1.23443248\n",
            "Iteration 90, loss = 1.21422053\n",
            "Iteration 91, loss = 1.22108798\n",
            "Iteration 92, loss = 1.23926127\n",
            "Iteration 93, loss = 1.20100720\n",
            "Iteration 94, loss = 1.24600647\n",
            "Iteration 95, loss = 1.20671016\n",
            "Iteration 96, loss = 1.24562251\n",
            "Iteration 97, loss = 1.24756161\n",
            "Iteration 98, loss = 1.20328524\n",
            "Iteration 99, loss = 1.21669266\n",
            "Iteration 100, loss = 1.22234618\n",
            "Iteration 101, loss = 1.18280653\n",
            "Iteration 102, loss = 1.19902341\n",
            "Iteration 103, loss = 1.25462142\n",
            "Iteration 104, loss = 1.23556255\n",
            "Iteration 105, loss = 1.21701636\n",
            "Iteration 106, loss = 1.15788357\n",
            "Iteration 107, loss = 1.15791973\n",
            "Iteration 108, loss = 1.16940725\n",
            "Iteration 109, loss = 1.15920434\n",
            "Iteration 110, loss = 1.16141784\n",
            "Iteration 111, loss = 1.16947974\n",
            "Iteration 112, loss = 1.18515671\n",
            "Iteration 113, loss = 1.19699338\n",
            "Iteration 114, loss = 1.21919604\n",
            "Iteration 115, loss = 1.20289703\n",
            "Iteration 116, loss = 1.25580318\n",
            "Iteration 117, loss = 1.22690889\n",
            "Training loss did not improve more than tol=0.000100 for 10 consecutive epochs. Stopping.\n",
            "Train Accuracy: 67.222%\n",
            "Test Accuracy: 65.000%\n"
          ]
        },
        {
          "output_type": "stream",
          "name": "stderr",
          "text": [
            "/usr/local/lib/python3.10/dist-packages/sklearn/neural_network/_multilayer_perceptron.py:541: ConvergenceWarning:\n",
            "\n",
            "lbfgs failed to converge (status=1):\n",
            "STOP: TOTAL NO. of ITERATIONS REACHED LIMIT.\n",
            "\n",
            "Increase the number of iterations (max_iter) or scale the data as shown in:\n",
            "    https://scikit-learn.org/stable/modules/preprocessing.html\n",
            "\n"
          ]
        },
        {
          "output_type": "stream",
          "name": "stdout",
          "text": [
            "Train Accuracy: 95.556%\n",
            "Test Accuracy: 80.833%\n"
          ]
        },
        {
          "output_type": "display_data",
          "data": {
            "text/plain": [
              "<Figure size 640x480 with 1 Axes>"
            ],
            "image/png": "[encoded data removed]"
          },
          "metadata": {}
        }
      ]
    }
  ]
}